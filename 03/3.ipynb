{
 "cells": [
  {
   "cell_type": "code",
   "execution_count": 1,
   "metadata": {},
   "outputs": [],
   "source": [
    "import pygad\n",
    "import numpy as np\n",
    "\n",
    "def fitness_function(self, sol, solution_idx):\n",
    "    # print(solution.shape)\n",
    "    x1, x2, x3, x4 = sol\n",
    "    return -(x1**4 + 4*x2**2 + 2*x3**5 + x4)"
   ]
  },
  {
   "cell_type": "code",
   "execution_count": 2,
   "metadata": {},
   "outputs": [],
   "source": [
    "num_generations = 2\n",
    "num_parents_mating = 4\n",
    "sol_per_pop = 10\n",
    "num_genes = 4\n",
    "crossover_rate = 0.4\n",
    "mutation_rate = 0.1\n",
    "\n",
    "initial_population = [\n",
    "    [0, 0, 6, 5],\n",
    "    [0, 0, 5, 4],\n",
    "    [1, 0, 6, 5],\n",
    "    [0, 1, 5, 4],\n",
    "    [0, 0, 3, 4],\n",
    "    [1, 1, 1, 1],\n",
    "    [0, 1, 1, 1],\n",
    "    [1, 1, 1, 1],\n",
    "    [2, 2, 1, 1],\n",
    "    [2, 3, 1, 2]\n",
    "]"
   ]
  },
  {
   "cell_type": "code",
   "execution_count": 3,
   "metadata": {},
   "outputs": [
    {
     "name": "stderr",
     "output_type": "stream",
     "text": [
      "c:\\Users\\Andreas Christianto\\AppData\\Local\\Programs\\Python\\Python311\\Lib\\site-packages\\pygad\\pygad.py:1139: UserWarning: The 'delay_after_gen' parameter is deprecated starting from PyGAD 3.3.0. To delay or pause the evolution after each generation, assign a callback function/method to the 'on_generation' parameter to adds some time delay.\n",
      "  warnings.warn(\"The 'delay_after_gen' parameter is deprecated starting from PyGAD 3.3.0. To delay or pause the evolution after each generation, assign a callback function/method to the 'on_generation' parameter to adds some time delay.\")\n"
     ]
    }
   ],
   "source": [
    "ga_instance = pygad.GA(\n",
    "    num_generations=num_generations,\n",
    "    num_parents_mating=num_parents_mating,\n",
    "    fitness_func=fitness_function,\n",
    "    sol_per_pop=sol_per_pop,\n",
    "    num_genes=num_genes,\n",
    "    initial_population=initial_population,\n",
    "    parent_selection_type=\"rank\",\n",
    "    keep_parents=2,\n",
    "    crossover_probability=crossover_rate,\n",
    "    mutation_probability=mutation_rate,\n",
    "    gene_space=None\n",
    ")"
   ]
  },
  {
   "cell_type": "code",
   "execution_count": 4,
   "metadata": {},
   "outputs": [
    {
     "name": "stdout",
     "output_type": "stream",
     "text": [
      "Best solution: [0. 0. 1. 1.]\n",
      "Best solution fitness: 3.0\n"
     ]
    }
   ],
   "source": [
    "ga_instance.run()\n",
    "solution, solution_fitness, solution_idx = ga_instance.best_solution()\n",
    "print(f\"Best solution: {solution}\")\n",
    "print(f\"Best solution fitness: {-solution_fitness}\")  # Reverse the sign for minimization"
   ]
  }
 ],
 "metadata": {
  "kernelspec": {
   "display_name": "Python 3",
   "language": "python",
   "name": "python3"
  },
  "language_info": {
   "codemirror_mode": {
    "name": "ipython",
    "version": 3
   },
   "file_extension": ".py",
   "mimetype": "text/x-python",
   "name": "python",
   "nbconvert_exporter": "python",
   "pygments_lexer": "ipython3",
   "version": "3.11.1"
  }
 },
 "nbformat": 4,
 "nbformat_minor": 2
}
