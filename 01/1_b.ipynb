{
 "cells": [
  {
   "cell_type": "markdown",
   "metadata": {},
   "source": [
    "Nama    : Andreas Christianto\n",
    "NIM     : 2440023002"
   ]
  },
  {
   "cell_type": "markdown",
   "metadata": {},
   "source": [
    "### AdaLine"
   ]
  },
  {
   "cell_type": "code",
   "execution_count": 1,
   "metadata": {},
   "outputs": [],
   "source": [
    "import numpy as np"
   ]
  },
  {
   "cell_type": "code",
   "execution_count": 2,
   "metadata": {},
   "outputs": [],
   "source": [
    "class AdalineGD(object):\n",
    "\n",
    "\t\"\"\"ADAptive LInear NEuron classifier.\n",
    "\n",
    "\tParameters\n",
    "\t-----------\n",
    "\teta : float\n",
    "\t\tLearning rate (between 0.0 and 1.0)\n",
    "\tn_iter : int\n",
    "\t\tPasses over the training dataset.\n",
    "\n",
    "\tAttributes\n",
    "\t-----------\n",
    "\tw_ : 1d-array\n",
    "\t\tWeights after fitting.\n",
    "\terrors_ : list\n",
    "\t\tNumber of misclassifications in every epoch.\n",
    "\n",
    "\t\"\"\"\n",
    "\n",
    "\tdef __init__(self, eta = 0.01, n_iter = 50):\n",
    "\t\tself.eta = eta\n",
    "\t\tself.n_iter = n_iter\n",
    "\n",
    "\tdef fit(self, X, y):\n",
    "\n",
    "\t\t\"\"\" Fit training data.\n",
    "\n",
    "\t\tParameters\n",
    "\t\t-----------\n",
    "\t\tX : {array-like}, shape = [n_samples, n_features]\n",
    "\t\t\tTraining vectors,\n",
    "\t\t\twhere n_samples is the number of samples and\n",
    "\t\t\tn_features is the number of features.\n",
    "\t\ty : array-like, shape = [n_samples]\n",
    "\t\t\tTarget values.\n",
    "\n",
    "\t\tReturn\n",
    "\t\t-------\n",
    "\t\tself : object\n",
    "\n",
    "\t\t\"\"\"\n",
    "\n",
    "\t\tself.w_ = np.zeros(1 + X.shape[1])\n",
    "\t\t# print(self.w_)\n",
    "\t\tself.cost_ = []\n",
    "\n",
    "\t\tfor i in range(int(self.n_iter)):\n",
    "\t\t\toutput = self.net_input(X)\n",
    "\t\t\terrors = (y - output)\n",
    "\t\t\tself.w_[1:] += self.eta * X.T.dot(errors)\n",
    "\t\t\tself.w_[0] += self.eta * errors.sum()\n",
    "\t\t\tcost = (errors ** 2).sum() / 2.0\n",
    "\t\t\tself.cost_.append(cost)\n",
    "\n",
    "\t\treturn self\n",
    "\n",
    "\tdef net_input(self, X):\n",
    "\n",
    "\t\t\"\"\" Calculate net input \"\"\"\n",
    "\n",
    "\t\treturn np.dot(X, self.w_[1:]) + self.w_[0]\n",
    "\n",
    "\tdef activation(self, X):\n",
    "\n",
    "\t\t\"\"\" Compute linear activation \"\"\"\n",
    "\n",
    "\t\treturn self.net_input(X)\n",
    "\n",
    "\tdef predict(self, X):\n",
    "\n",
    "\t\t\"\"\" Return class label after unit step \"\"\"\n",
    "\n",
    "\t\treturn np.where(self.activation(X) >= 0.0, 1, -1)\n",
    "\n",
    "\tdef accuracy(self, X, y):\n",
    "\t\tpredictions = self.predict(X)\n",
    "\t\taccuracy = np.mean(predictions == y) * 100\n",
    "\t\treturn accuracy"
   ]
  },
  {
   "cell_type": "markdown",
   "metadata": {},
   "source": [
    "### Data"
   ]
  },
  {
   "cell_type": "code",
   "execution_count": 3,
   "metadata": {},
   "outputs": [],
   "source": [
    "X = [0.08, 0.72], [0.26, 0.58], [0.45, 0.15], [0.60, 0.30], [0.10, 1.0], [0.35, 0.95], [0.70, 0.65], [0.92, 0.45]\n",
    "X = np.array(X)\n",
    "y = [1, 1, 1, 1, -1, -1, -1, -1]\n",
    "y = np.array(y)"
   ]
  },
  {
   "cell_type": "markdown",
   "metadata": {},
   "source": [
    "### Import Library"
   ]
  },
  {
   "cell_type": "code",
   "execution_count": 4,
   "metadata": {},
   "outputs": [
    {
     "data": {
      "text/plain": [
       "<__main__.AdalineGD at 0x1e2bccf16d0>"
      ]
     },
     "execution_count": 4,
     "metadata": {},
     "output_type": "execute_result"
    }
   ],
   "source": [
    "adaline = AdalineGD(eta=0.1, n_iter=200)\n",
    "adaline.fit(X,y)"
   ]
  },
  {
   "cell_type": "code",
   "execution_count": 5,
   "metadata": {},
   "outputs": [],
   "source": [
    "predictions = adaline.predict(X)"
   ]
  },
  {
   "cell_type": "code",
   "execution_count": 6,
   "metadata": {},
   "outputs": [
    {
     "name": "stdout",
     "output_type": "stream",
     "text": [
      "[ 1  1  1  1 -1 -1 -1 -1]\n"
     ]
    }
   ],
   "source": [
    "print(predictions)"
   ]
  },
  {
   "cell_type": "code",
   "execution_count": 7,
   "metadata": {},
   "outputs": [
    {
     "name": "stdout",
     "output_type": "stream",
     "text": [
      "Accuracy: 100.00%\n"
     ]
    }
   ],
   "source": [
    "accuracy = adaline.accuracy(X, y)\n",
    "print(f'Accuracy: {accuracy:.2f}%')"
   ]
  },
  {
   "cell_type": "markdown",
   "metadata": {},
   "source": [
    "### MSE Curve"
   ]
  },
  {
   "cell_type": "code",
   "execution_count": 8,
   "metadata": {},
   "outputs": [],
   "source": [
    "import matplotlib.pyplot as plt"
   ]
  },
  {
   "cell_type": "code",
   "execution_count": 9,
   "metadata": {},
   "outputs": [
    {
     "data": {
      "image/png": "[encoded data removed]",
      "text/plain": [
       "<Figure size 640x480 with 1 Axes>"
      ]
     },
     "metadata": {},
     "output_type": "display_data"
    }
   ],
   "source": [
    "plt.plot(range(1, len(adaline.cost_) + 1), adaline.cost_, marker='o')\n",
    "plt.xlabel('Epochs')\n",
    "plt.ylabel('Mean Squared Error')\n",
    "plt.title('Mean Squared Error vs. Epochs')\n",
    "plt.grid()\n",
    "plt.show()"
   ]
  },
  {
   "cell_type": "markdown",
   "metadata": {},
   "source": [
    "### AdaLine"
   ]
  },
  {
   "cell_type": "code",
   "execution_count": 10,
   "metadata": {},
   "outputs": [
    {
     "name": "stdout",
     "output_type": "stream",
     "text": [
      "gen\tnevals\n",
      "0  \t50    \n",
      "1  \t28    \n"
     ]
    },
    {
     "name": "stderr",
     "output_type": "stream",
     "text": [
      "C:\\Users\\Andreas Christianto\\AppData\\Local\\Temp\\ipykernel_6828\\1212362124.py:53: RuntimeWarning: overflow encountered in square\n",
      "  cost = (errors ** 2).sum() / 2.0\n"
     ]
    },
    {
     "name": "stdout",
     "output_type": "stream",
     "text": [
      "2  \t32    \n",
      "3  \t30    \n",
      "4  \t28    \n",
      "5  \t28    \n",
      "6  \t26    \n",
      "7  \t23    \n",
      "8  \t30    \n",
      "9  \t35    \n",
      "10 \t29    \n",
      "11 \t26    \n",
      "12 \t29    \n",
      "13 \t32    \n",
      "14 \t39    \n",
      "15 \t30    \n",
      "16 \t32    \n",
      "17 \t34    \n",
      "18 \t31    \n",
      "19 \t33    \n",
      "20 \t33    \n",
      "21 \t32    \n",
      "22 \t39    \n",
      "23 \t43    \n",
      "24 \t25    \n",
      "25 \t29    \n",
      "26 \t29    \n",
      "27 \t33    \n",
      "28 \t22    \n",
      "29 \t33    \n",
      "30 \t30    \n"
     ]
    },
    {
     "name": "stderr",
     "output_type": "stream",
     "text": [
      "c:\\Users\\Andreas Christianto\\AppData\\Local\\Programs\\Python\\Python311\\Lib\\site-packages\\numpy\\core\\_methods.py:49: RuntimeWarning: overflow encountered in reduce\n",
      "  return umr_sum(a, axis, dtype, out, keepdims, initial, where)\n"
     ]
    },
    {
     "name": "stdout",
     "output_type": "stream",
     "text": [
      "31 \t35    \n",
      "32 \t20    \n",
      "33 \t34    \n",
      "34 \t27    \n",
      "35 \t25    \n",
      "36 \t34    \n",
      "37 \t22    \n",
      "38 \t28    \n",
      "39 \t30    \n",
      "40 \t33    \n",
      "41 \t29    \n",
      "42 \t33    \n",
      "43 \t35    \n",
      "44 \t30    \n",
      "45 \t28    \n",
      "46 \t29    \n",
      "47 \t29    \n",
      "48 \t27    \n",
      "49 \t29    \n",
      "50 \t26    \n",
      "Best individual: [0.06632244394991751, 108.77425151430072]\n",
      "Accuracy: 100.00%\n"
     ]
    }
   ],
   "source": [
    "from deap import algorithms, base, creator, tools\n",
    "import numpy as np\n",
    "\n",
    "# Define the fitness function\n",
    "def fitness_function(individual):\n",
    "    adaline = AdalineGD(eta=individual[0], n_iter=int(individual[1]))\n",
    "    adaline.fit(X, y)\n",
    "    accuracy = adaline.accuracy(X, y)\n",
    "    return accuracy,\n",
    "\n",
    "# Define GA parameters\n",
    "creator.create(\"FitnessMax\", base.Fitness, weights=(1.0,))\n",
    "creator.create(\"Individual\", list, fitness=creator.FitnessMax)\n",
    "\n",
    "toolbox = base.Toolbox()\n",
    "toolbox.register(\"eta\", np.random.uniform, 0.01, 0.1)\n",
    "toolbox.register(\"n_iter\", np.random.randint, 50, 200)\n",
    "toolbox.register(\"individual\", tools.initCycle, creator.Individual, (toolbox.eta, toolbox.n_iter), n=1)\n",
    "toolbox.register(\"population\", tools.initRepeat, list, toolbox.individual)\n",
    "\n",
    "toolbox.register(\"evaluate\", fitness_function)\n",
    "toolbox.register(\"mate\", tools.cxBlend, alpha=0.5)\n",
    "toolbox.register(\"mutate\", tools.mutGaussian, mu=0, sigma=1, indpb=0.05)\n",
    "toolbox.register(\"select\", tools.selTournament, tournsize=3)\n",
    "\n",
    "# Initialize population\n",
    "population = toolbox.population(n=50)\n",
    "\n",
    "# Run the genetic algorithm\n",
    "algorithms.eaSimple(population, toolbox, cxpb=0.5, mutpb=0.2, ngen=50, verbose=True)\n",
    "\n",
    "# Get the best individual\n",
    "best_individual = tools.selBest(population, k=1)[0]\n",
    "print(\"Best individual:\", best_individual)\n",
    "adaline = AdalineGD(eta=best_individual[0], n_iter=best_individual[1])\n",
    "adaline.fit(X, y)\n",
    "accuracy = adaline.accuracy(X, y)\n",
    "print(f'Accuracy: {accuracy:.2f}%')"
   ]
  },
  {
   "cell_type": "code",
   "execution_count": 13,
   "metadata": {},
   "outputs": [
    {
     "name": "stderr",
     "output_type": "stream",
     "text": [
      "2024-05-23 23:29:39,479 - pyswarms.single.global_best - INFO - Optimize for 50 iters with {'c1': 0.5, 'c2': 0.3, 'w': 0.9}\n",
      "pyswarms.single.global_best:   0%|          |0/50, best_cost=-100"
     ]
    },
    {
     "name": "stderr",
     "output_type": "stream",
     "text": [
      "pyswarms.single.global_best: 100%|██████████|50/50, best_cost=-100\n",
      "2024-05-23 23:29:39,967 - pyswarms.single.global_best - INFO - Optimization finished | best cost: -100.0, best pos: [ 0.06749596 66.31766251]\n"
     ]
    },
    {
     "name": "stdout",
     "output_type": "stream",
     "text": [
      "Optimized parameters: eta=0.06749596011519435, n_iter=66\n",
      "Best accuracy: 100.0\n"
     ]
    }
   ],
   "source": [
    "import numpy as np\n",
    "import pyswarms as ps\n",
    "\n",
    "# Define the fitness function\n",
    "def fitness_function(x, X, y):\n",
    "    eta = x[0][0]  # Accessing the first element of the first dimension\n",
    "    n_iter = int(x[0][1])\n",
    "    adaline = AdalineGD(eta=eta, n_iter=n_iter)\n",
    "    adaline.fit(X, y)\n",
    "    accuracy = adaline.accuracy(X, y)\n",
    "    return -accuracy  # PSO minimizes the function, so we negate the accuracy\n",
    "\n",
    "# Define PSO parameters\n",
    "options = {'c1': 0.5, 'c2': 0.3, 'w': 0.9}\n",
    "\n",
    "# Set the lower and upper bounds for eta and n_iter\n",
    "lb = np.array([0.01, 50])\n",
    "ub = np.array([0.1, 200])\n",
    "\n",
    "# Create the optimizer\n",
    "optimizer = ps.single.GlobalBestPSO(n_particles=50, dimensions=2, options=options, bounds=(lb, ub))\n",
    "\n",
    "# Perform optimization\n",
    "best_cost, best_params = optimizer.optimize(fitness_function, iters=50, X=X, y=y)\n",
    "\n",
    "# Print the results\n",
    "print(\"Optimized parameters: eta={}, n_iter={}\".format(best_params[0], int(best_params[1])))\n",
    "print(\"Best accuracy:\", -best_cost)"
   ]
  }
 ],
 "metadata": {
  "kernelspec": {
   "display_name": "Python 3",
   "language": "python",
   "name": "python3"
  },
  "language_info": {
   "codemirror_mode": {
    "name": "ipython",
    "version": 3
   },
   "file_extension": ".py",
   "mimetype": "text/x-python",
   "name": "python",
   "nbconvert_exporter": "python",
   "pygments_lexer": "ipython3",
   "version": "3.11.1"
  }
 },
 "nbformat": 4,
 "nbformat_minor": 2
}
